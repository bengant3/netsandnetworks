{
  "nbformat": 4,
  "nbformat_minor": 0,
  "metadata": {
    "colab": {
      "name": "netsandnetworks.ipynb",
      "provenance": []
    },
    "kernelspec": {
      "name": "python3",
      "display_name": "Python 3"
    }
  },
  "cells": [
    {
      "cell_type": "code",
      "metadata": {
        "id": "SEwUrxbAKwWR"
      },
      "source": [
        "import numpy as np\r\n",
        "import tensorflow as tf\r\n",
        "from tensorflow import keras\r\n",
        "import csv"
      ],
      "execution_count": 1,
      "outputs": []
    },
    {
      "cell_type": "markdown",
      "metadata": {
        "id": "Bm9z_WZy9py6"
      },
      "source": [
        "Load in data. Can be found at https://raw.githubusercontent.com/bengant3/netsandnetworks/main/201819nbadata.csv"
      ]
    },
    {
      "cell_type": "code",
      "metadata": {
        "colab": {
          "base_uri": "https://localhost:8080/"
        },
        "id": "CE0c6L7yO5Il",
        "outputId": "d9935705-5361-43c1-9770-c87337dfd0c9"
      },
      "source": [
        "# data from \"https://raw.githubusercontent.com/bengant3/netsandnetworks/main/201819nbadata.csv\"\r\n",
        "\r\n",
        "f = open('drive/MyDrive/Colab Notebooks/201819nbadata.csv','rt')\r\n",
        "d = [i for i in csv.reader(f) ]\r\n",
        "f.close()\r\n",
        "d[0].insert(0,'rank') #add in title for the first column\r\n",
        "\r\n",
        "print(d[0])\r\n"
      ],
      "execution_count": 2,
      "outputs": [
        {
          "output_type": "stream",
          "text": [
            "['rank', 'name', 'average rank', 'index', 'Player', 'Pos', 'Age', 'Tm', 'G', 'GS', 'MP', '3P', '3PA', '2P', '2PA', 'eFG%', 'FT', 'FTA', 'ORB', 'DRB', 'AST', 'STL', 'BLK', 'TOV', 'PF', 'PTS']\n"
          ],
          "name": "stdout"
        }
      ]
    },
    {
      "cell_type": "markdown",
      "metadata": {
        "id": "TvlZ0P8u93eL"
      },
      "source": [
        "Create a dictionary that returns the index in d of a player"
      ]
    },
    {
      "cell_type": "code",
      "metadata": {
        "colab": {
          "base_uri": "https://localhost:8080/"
        },
        "id": "owdiGlkD9pCe",
        "outputId": "0709aa11-b6f9-4dbf-ba1a-f9ac7bc07b3b"
      },
      "source": [
        "##import csv\r\n",
        "#data = list(csv.reader(open(dataaddress)))\r\n",
        "players = {}\r\n",
        "for row in d:\r\n",
        "  players[row[1]] = row[0]\r\n",
        "\r\n",
        "print(players)"
      ],
      "execution_count": 3,
      "outputs": [
        {
          "output_type": "stream",
          "text": [
            "{'name': 'rank', 'Kawhi Leonard': '1', 'Giannis Antetokounmpo': '2', 'LeBron James': '3', 'Stephen Curry': '4', 'James Harden': '5', 'Anthony Davis': '6', 'Joel Embiid': '7', 'Nikola Jokic': '8', 'Paul George': '9', 'Damian Lillard': '10', 'Kyrie Irving': '11', 'Russell Westbrook': '12', 'Jimmy Butler': '13', 'Karl-Anthony Towns': '14', 'Rudy Gobert': '15', 'Bradley Beal': '16', 'Draymond Green': '17', 'Ben Simmons': '18', 'Kemba Walker': '19', 'Blake Griffin': '20', 'Chris Paul': '21', 'Pascal Siakam': '22', 'Jrue Holiday': '23', 'Donovan Mitchell': '24', 'Luka Doncic': '25', 'CJ McCollum': '26', 'LaMarcus Aldridge': '27', 'Mike Conley': '28', 'Al Horford': '29', 'Khris Middleton': '30', 'Kyle Lowry': '31', 'Devin Booker': '32', 'Victor Oladipo': '33', \"De'Aaron Fox\": '34', 'Jamal Murray': '35', 'DeMar DeRozan': '36', 'Jayson Tatum': '37', 'Nikola Vucevic': '38', 'Kevin Love': '39', 'Tobias Harris': '40', \"D'Angelo Russell\": '41', 'Andre Drummond': '42', 'Myles Turner': '43', 'Trae Young': '44', 'Lou Williams': '45', 'John Collins': '46', 'Steven Adams': '47', 'Marc Gasol': '48', 'Malcolm Brogdon': '49', 'Eric Bledsoe': '50', 'Danilo Gallinari': '51', 'Paul Millsap': '52', 'Gary Harris': '53', 'Gordon Hayward': '54', 'Brook Lopez': '55', 'Jaylen Brown': '56', 'Aaron Gordon': '57', 'Joe Ingles': '58', 'Bojan Bogdanovic': '59', 'Otto Porter': '60', 'Lauri Markkanen': '61', 'Zach LaVine': '62', 'Eric Gordon': '63', 'Domantas Sabonis': '64', 'Josh Richardson': '65', 'Jaren Jackson Jr.': '66', 'Julius Randle': '67', 'P.J. Tucker': '68', 'Montrezl Harrell': '69', 'Brandon Ingram': '70', 'Marcus Smart': '71', 'Patrick Beverley': '72'}\n"
          ],
          "name": "stdout"
        }
      ]
    },
    {
      "cell_type": "markdown",
      "metadata": {
        "id": "nFXRr5zm-AlL"
      },
      "source": [
        "This is so we can access specific data points using the follow notation:"
      ]
    },
    {
      "cell_type": "code",
      "metadata": {
        "colab": {
          "base_uri": "https://localhost:8080/"
        },
        "id": "OU8Y5gRQ-BHP",
        "outputId": "cbf9b98e-68fe-4315-8998-513dd98e6551"
      },
      "source": [
        "print(\"Kawhi scored \" + d[int(players['Kawhi Leonard'])][d[0].index(\"PTS\")] + \" points\")\r\n",
        "print(\"Lebron James played \" + d[int(players['LeBron James'])][d[0].index(\"MP\")] + \" minutes\")\r\n",
        "print(\"Damian Lillard had an effective FG percentage of \" + str(100*float(d[int(players['Damian Lillard'])][d[0].index(\"eFG%\")])) + \"%\")"
      ],
      "execution_count": 4,
      "outputs": [
        {
          "output_type": "stream",
          "text": [
            "Kawhi scored 1596 points\n",
            "Lebron James played 1937 minutes\n",
            "Damian Lillard had an effective FG percentage of 52.2%\n"
          ],
          "name": "stdout"
        }
      ]
    },
    {
      "cell_type": "markdown",
      "metadata": {
        "id": "bzDiBADY-HWf"
      },
      "source": [
        "Let's create a 2d float list to store the actual statistics (from Games Played 'G' onward)\r\n",
        "\r\n"
      ]
    },
    {
      "cell_type": "code",
      "metadata": {
        "colab": {
          "base_uri": "https://localhost:8080/"
        },
        "id": "MwG2_BKG-Hhh",
        "outputId": "32efa70c-5df9-452a-9de2-946b09f28f59"
      },
      "source": [
        "source = []\r\n",
        "for row in d[1:]:\r\n",
        "  sourcerow = []\r\n",
        "  for i in range(8,26):\r\n",
        "    sourcerow.append(float(row[i]))\r\n",
        "  source.append(sourcerow)\r\n",
        "\r\n",
        "print(str(source[0]) + \"\\n\" + str(source[1]))"
      ],
      "execution_count": 5,
      "outputs": [
        {
          "output_type": "stream",
          "text": [
            "[60.0, 60.0, 2040.0, 112.0, 302.0, 448.0, 827.0, 0.546, 364.0, 426.0, 78.0, 361.0, 199.0, 106.0, 24.0, 121.0, 87.0, 1596.0]\n",
            "[72.0, 72.0, 2358.0, 52.0, 203.0, 669.0, 1044.0, 0.599, 500.0, 686.0, 159.0, 739.0, 424.0, 92.0, 110.0, 268.0, 232.0, 1994.0]\n"
          ],
          "name": "stdout"
        }
      ]
    },
    {
      "cell_type": "markdown",
      "metadata": {
        "id": "OcPYp7rgLgsd"
      },
      "source": [
        "Now we need to normalize the statistics to between 0 and 1. The easiest way to do this is first convert the 2d list to a 2d numpy array.\r\n",
        "\r\n",
        " For most statistics, if it is not already between 0 and 1, we will divide it by the max entry times 1.25. For games started and played, we divide by 82, since that is the abolute maximum."
      ]
    },
    {
      "cell_type": "code",
      "metadata": {
        "colab": {
          "base_uri": "https://localhost:8080/"
        },
        "id": "05giyxEiMbv4",
        "outputId": "453489f1-f308-4d4c-f409-dace8223477f"
      },
      "source": [
        "inputs = np.asarray(source)\r\n",
        "\r\n",
        "for row in range(0,len(inputs)):\r\n",
        "  inputs[row][0] /= 82 #games played\r\n",
        "  inputs[row][1] /= 82 #games started\r\n",
        "  for i in range(2, len(inputs[row])):\r\n",
        "    inputs[row][i] /= (max(inputs.T[i])*1.25)\r\n",
        "\r\n",
        "print(inputs[:3])"
      ],
      "execution_count": 21,
      "outputs": [
        {
          "output_type": "stream",
          "text": [
            "[[0.73170732 0.73170732 0.53896962 0.23703704 0.23501946 0.53175074\n",
            "  0.51808927 0.6529148  0.3862069  0.3972028  0.14751773 0.35698393\n",
            "  0.20306122 0.49882353 0.09648241 0.2501292  0.23835616 0.4530873 ]\n",
            " [0.87804878 0.87804878 0.62298547 0.11005291 0.15797665 0.79406528\n",
            "  0.65403289 0.71629297 0.53050398 0.63962704 0.30070922 0.73077874\n",
            "  0.43265306 0.43294118 0.44221106 0.55400517 0.63561644 0.56607523]\n",
            " [0.67073171 0.67073171 0.51175694 0.23492063 0.25447471 0.5305638\n",
            "  0.48112764 0.6254424  0.29496021 0.38974359 0.10780142 0.40346106\n",
            "  0.46326531 0.33882353 0.13266332 0.40723514 0.25753425 0.42725337]]\n"
          ],
          "name": "stdout"
        }
      ]
    },
    {
      "cell_type": "markdown",
      "metadata": {
        "id": "fw7PTIrX-Hp5"
      },
      "source": [
        "And a 1d float array to store the player indices"
      ]
    },
    {
      "cell_type": "code",
      "metadata": {
        "colab": {
          "base_uri": "https://localhost:8080/"
        },
        "id": "SJQY25Mz-Hxn",
        "outputId": "145f6c50-6abd-4dfb-de72-07660ed3f127"
      },
      "source": [
        "target = []\r\n",
        "for row in d[1:]:\r\n",
        "  target.append(float(row[3]))\r\n",
        "\r\n",
        "print(target[0:4])"
      ],
      "execution_count": 22,
      "outputs": [
        {
          "output_type": "stream",
          "text": [
            "[0.9954166667, 0.995, 0.9929166667, 0.9904166667]\n"
          ],
          "name": "stdout"
        }
      ]
    },
    {
      "cell_type": "code",
      "metadata": {
        "id": "eN0TnDuRK_sX"
      },
      "source": [
        ""
      ],
      "execution_count": 7,
      "outputs": []
    }
  ]
}