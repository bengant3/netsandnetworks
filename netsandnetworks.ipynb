{
  "nbformat": 4,
  "nbformat_minor": 0,
  "metadata": {
    "colab": {
      "name": "netsandnetworks.ipynb",
      "provenance": [],
      "collapsed_sections": []
    },
    "kernelspec": {
      "name": "python3",
      "display_name": "Python 3"
    }
  },
  "cells": [
    {
      "cell_type": "code",
      "metadata": {
        "id": "SEwUrxbAKwWR"
      },
      "source": [
        "import numpy as np\n",
        "import tensorflow as tf\n",
        "from tensorflow import keras\n",
        "import pandas as pd\n",
        "from tensorflow.keras import layers\n",
        "from tensorflow.keras.layers.experimental import preprocessing\n",
        "import matplotlib.pyplot as plt\n"
      ],
      "execution_count": null,
      "outputs": []
    },
    {
      "cell_type": "markdown",
      "metadata": {
        "id": "Bm9z_WZy9py6"
      },
      "source": [
        "Load in data. Can be found at https://raw.githubusercontent.com/bengant3/netsandnetworks/main/201819nbadata.csv"
      ]
    },
    {
      "cell_type": "code",
      "metadata": {
        "colab": {
          "base_uri": "https://localhost:8080/"
        },
        "id": "CE0c6L7yO5Il",
        "outputId": "a6a547a5-f29f-4d18-f40a-eacb6a658729"
      },
      "source": [
        "# data from \"https://raw.githubusercontent.com/bengant3/netsandnetworks/main/201819nbadata.csv\"\n",
        "\n",
        "# local method\n",
        "# from google.colab import files\n",
        "# d = files.upload()\n",
        "\n",
        "# via url via pandas\n",
        "dataDf = pd.read_csv(\"https://raw.githubusercontent.com/bengant3/netsandnetworks/main/201819nbadata.csv\")\n",
        "print(dataDf)\n"
      ],
      "execution_count": null,
      "outputs": [
        {
          "output_type": "stream",
          "text": [
            "    rank                   name  average rank     index  ...  BLK  TOV   PF   PTS\n",
            "0      1          Kawhi Leonard      1.833333  0.995417  ...   24  121   87  1596\n",
            "1      2  Giannis Antetokounmpo      2.000000  0.995000  ...  110  268  232  1994\n",
            "2      3           LeBron James      2.833333  0.992917  ...   33  197   94  1505\n",
            "3      4          Stephen Curry      3.833333  0.990417  ...   25  192  166  1881\n",
            "4      5           James Harden      4.833333  0.987917  ...   58  387  244  2818\n",
            "..   ...                    ...           ...       ...  ...  ...  ...  ...   ...\n",
            "67    68            P.J. Tucker     74.166667  0.814583  ...   39   63  252   601\n",
            "68    69       Montrezl Harrell     74.666667  0.813333  ...  110  132  255  1361\n",
            "69    70         Brandon Ingram     76.666667  0.808333  ...   31  129  149   950\n",
            "70    71           Marcus Smart     79.166667  0.802083  ...   28  123  201   708\n",
            "71    72       Patrick Beverley     80.500000  0.798750  ...   43   85  265   596\n",
            "\n",
            "[72 rows x 25 columns]\n"
          ],
          "name": "stdout"
        }
      ]
    },
    {
      "cell_type": "markdown",
      "metadata": {
        "id": "TvlZ0P8u93eL"
      },
      "source": [
        "Create a dictionary called `players` that returns the index in `d` of a given player."
      ]
    },
    {
      "cell_type": "code",
      "metadata": {
        "colab": {
          "base_uri": "https://localhost:8080/"
        },
        "id": "owdiGlkD9pCe",
        "outputId": "3377ea2b-e23b-49f4-edb9-84d343bc6193"
      },
      "source": [
        "d = [dataDf.columns.values.tolist()] + dataDf.values.tolist()\n",
        "\n",
        "players = {}\n",
        "for row in d:\n",
        "  players[row[1]] = row[0]\n",
        "\n",
        "print(players)"
      ],
      "execution_count": null,
      "outputs": [
        {
          "output_type": "stream",
          "text": [
            "{'name': 'rank', 'Kawhi Leonard': 1, 'Giannis Antetokounmpo': 2, 'LeBron James': 3, 'Stephen Curry': 4, 'James Harden': 5, 'Anthony Davis': 6, 'Joel Embiid': 7, 'Nikola Jokic': 8, 'Paul George': 9, 'Damian Lillard': 10, 'Kyrie Irving': 11, 'Russell Westbrook': 12, 'Jimmy Butler': 13, 'Karl-Anthony Towns': 14, 'Rudy Gobert': 15, 'Bradley Beal': 16, 'Draymond Green': 17, 'Ben Simmons': 18, 'Kemba Walker': 19, 'Blake Griffin': 20, 'Chris Paul': 21, 'Pascal Siakam': 22, 'Jrue Holiday': 23, 'Donovan Mitchell': 24, 'Luka Doncic': 25, 'CJ McCollum': 26, 'LaMarcus Aldridge': 27, 'Mike Conley': 28, 'Al Horford': 29, 'Khris Middleton': 30, 'Kyle Lowry': 31, 'Devin Booker': 32, 'Victor Oladipo': 33, \"De'Aaron Fox\": 34, 'Jamal Murray': 35, 'DeMar DeRozan': 36, 'Jayson Tatum': 37, 'Nikola Vucevic': 38, 'Kevin Love': 39, 'Tobias Harris': 40, \"D'Angelo Russell\": 41, 'Andre Drummond': 42, 'Myles Turner': 43, 'Trae Young': 44, 'Lou Williams': 45, 'John Collins': 46, 'Steven Adams': 47, 'Marc Gasol': 48, 'Malcolm Brogdon': 49, 'Eric Bledsoe': 50, 'Danilo Gallinari': 51, 'Paul Millsap': 52, 'Gary Harris': 53, 'Gordon Hayward': 54, 'Brook Lopez': 55, 'Jaylen Brown': 56, 'Aaron Gordon': 57, 'Joe Ingles': 58, 'Bojan Bogdanovic': 59, 'Otto Porter': 60, 'Lauri Markkanen': 61, 'Zach LaVine': 62, 'Eric Gordon': 63, 'Domantas Sabonis': 64, 'Josh Richardson': 65, 'Jaren Jackson Jr.': 66, 'Julius Randle': 67, 'P.J. Tucker': 68, 'Montrezl Harrell': 69, 'Brandon Ingram': 70, 'Marcus Smart': 71, 'Patrick Beverley': 72}\n"
          ],
          "name": "stdout"
        }
      ]
    },
    {
      "cell_type": "markdown",
      "metadata": {
        "id": "nFXRr5zm-AlL"
      },
      "source": [
        "This is so we can access specific data points using the follow notation:"
      ]
    },
    {
      "cell_type": "code",
      "metadata": {
        "colab": {
          "base_uri": "https://localhost:8080/"
        },
        "id": "OU8Y5gRQ-BHP",
        "outputId": "8b529027-45a5-4d12-ccc8-5ff153e7dc51"
      },
      "source": [
        "print(\"Kawhi scored \" + str(d[int(players['Kawhi Leonard'])][d[0].index(\"PTS\")]) + \" points\")\n",
        "print(\"Lebron James played \" + str(d[int(players['LeBron James'])][d[0].index(\"MP\")]) + \" minutes\")\n",
        "print(\"Damian Lillard made \" + str(d[int(players['Damian Lillard'])][d[0].index(\"3P\")]) + \" threes\")"
      ],
      "execution_count": null,
      "outputs": [
        {
          "output_type": "stream",
          "text": [
            "Kawhi scored 1596 points\n",
            "Lebron James played 1937 minutes\n",
            "Damian Lillard made 237 threes\n"
          ],
          "name": "stdout"
        }
      ]
    },
    {
      "cell_type": "markdown",
      "metadata": {
        "id": "bzDiBADY-HWf"
      },
      "source": [
        "Let's create a numpy array to store the actual statistics (from column Games Played 'G' onward). We will call this `features`.\n",
        "\n"
      ]
    },
    {
      "cell_type": "code",
      "metadata": {
        "colab": {
          "base_uri": "https://localhost:8080/"
        },
        "id": "MwG2_BKG-Hhh",
        "outputId": "2a4da0a2-b2f7-43c3-ba37-ec65d2e1786c"
      },
      "source": [
        "source = []\n",
        "for row in d[1:]:\n",
        "  sourcerow = []\n",
        "  for i in range(8,25):\n",
        "    sourcerow.append(float(row[i]))\n",
        "  source.append(sourcerow)\n",
        "\n",
        "print(str(source[0]) + \"\\n\" + str(source[1]))\n",
        "features = np.array(source)"
      ],
      "execution_count": null,
      "outputs": [
        {
          "output_type": "stream",
          "text": [
            "[60.0, 60.0, 2040.0, 112.0, 302.0, 448.0, 827.0, 364.0, 426.0, 78.0, 361.0, 199.0, 106.0, 24.0, 121.0, 87.0, 1596.0]\n",
            "[72.0, 72.0, 2358.0, 52.0, 203.0, 669.0, 1044.0, 500.0, 686.0, 159.0, 739.0, 424.0, 92.0, 110.0, 268.0, 232.0, 1994.0]\n"
          ],
          "name": "stdout"
        }
      ]
    },
    {
      "cell_type": "markdown",
      "metadata": {
        "id": "fw7PTIrX-Hp5"
      },
      "source": [
        "And a numpy array called `labels` to store the player indices. The neural network should be able to use the statistics in `features` to predict the values in `labels`."
      ]
    },
    {
      "cell_type": "code",
      "metadata": {
        "colab": {
          "base_uri": "https://localhost:8080/"
        },
        "id": "SJQY25Mz-Hxn",
        "outputId": "4d8ec923-e357-43c4-96e5-7d98e117b166"
      },
      "source": [
        "target = []\n",
        "for row in d[1:]:\n",
        "  target.append(float(row[3]))\n",
        "\n",
        "print(target[0:4])\n",
        "labels = np.array(target)"
      ],
      "execution_count": null,
      "outputs": [
        {
          "output_type": "stream",
          "text": [
            "[0.9954166667000001, 0.995, 0.9929166667, 0.9904166667000001]\n"
          ],
          "name": "stdout"
        }
      ]
    },
    {
      "cell_type": "markdown",
      "metadata": {
        "id": "FV0LnpXuz62c"
      },
      "source": [
        "We use a normalization layer to try to normalize the statistics to approximately a normal distribution."
      ]
    },
    {
      "cell_type": "code",
      "metadata": {
        "id": "eN0TnDuRK_sX",
        "colab": {
          "base_uri": "https://localhost:8080/"
        },
        "outputId": "bedf6e19-ad35-401e-9501-77e0dcdc7517"
      },
      "source": [
        "normalizer = preprocessing.Normalization()\n",
        "normalizer.adapt(np.array(source))\n",
        "print(normalizer.mean.numpy())"
      ],
      "execution_count": null,
      "outputs": [
        {
          "output_type": "stream",
          "text": [
            "<tensorflow.python.keras.layers.preprocessing.normalization.Normalization object at 0x7f140b9c20d0>\n"
          ],
          "name": "stdout"
        }
      ]
    },
    {
      "cell_type": "markdown",
      "metadata": {
        "id": "MU22ttsY0Oyc"
      },
      "source": [
        "See below what I mean: I converted the actual statistics of Kawhi, which can vary from 24 to 2040, to values with ±2 of 0, by creating a normal distribution for each of the 17 statistics."
      ]
    },
    {
      "cell_type": "code",
      "metadata": {
        "colab": {
          "base_uri": "https://localhost:8080/"
        },
        "id": "8nLfPuVrh1Gd",
        "outputId": "3060dcec-3255-4360-c863-c6fcf43451fc"
      },
      "source": [
        "first = np.array(source[:1])\n",
        "\n",
        "with np.printoptions(precision=2, suppress=True):\n",
        "  print('First example, Kawhi\\'s statistics:', first)\n",
        "  print()\n",
        "  print('Normalized:', normalizer(first).numpy())"
      ],
      "execution_count": null,
      "outputs": [
        {
          "output_type": "stream",
          "text": [
            "First example: [[  60.   60. 2040.  112.  302.  448.  827.  364.  426.   78.  361.  199.\n",
            "   106.   24.  121.   87. 1596.]]\n",
            "\n",
            "Normalized: [[-1.01 -0.25 -0.55 -0.1  -0.14  0.57  0.52  0.89  0.69 -0.29 -0.07 -0.67\n",
            "   0.78 -0.63 -0.62 -1.71  0.58]]\n"
          ],
          "name": "stdout"
        }
      ]
    },
    {
      "cell_type": "markdown",
      "metadata": {
        "id": "oC2LeNIy04hj"
      },
      "source": [
        "Now we build our actual model called `dnn_model`, with 2 hidden layers of 64 nodes each."
      ]
    },
    {
      "cell_type": "code",
      "metadata": {
        "id": "AlmwQQqWiJWG",
        "colab": {
          "base_uri": "https://localhost:8080/"
        },
        "outputId": "05f8def9-0f69-4567-d3cf-e2cb14b4b97b"
      },
      "source": [
        "def build_and_compile_model(norm):\n",
        "  model = keras.Sequential([\n",
        "      norm,\n",
        "      layers.Dense(64, activation='relu'),\n",
        "      layers.Dense(64, activation='relu'),\n",
        "      layers.Dense(1)\n",
        "  ])\n",
        "\n",
        "  model.compile(loss='mean_absolute_error',\n",
        "                optimizer=tf.keras.optimizers.Adam(0.001),\n",
        "                metrics=['accuracy'])\n",
        "  return model\n",
        "\n",
        "dnn_model = build_and_compile_model(normalizer)\n",
        "dnn_model.summary()"
      ],
      "execution_count": null,
      "outputs": [
        {
          "output_type": "stream",
          "text": [
            "Model: \"sequential_1\"\n",
            "_________________________________________________________________\n",
            "Layer (type)                 Output Shape              Param #   \n",
            "=================================================================\n",
            "normalization_1 (Normalizati (None, 17)                35        \n",
            "_________________________________________________________________\n",
            "dense_3 (Dense)              (None, 64)                1152      \n",
            "_________________________________________________________________\n",
            "dense_4 (Dense)              (None, 64)                4160      \n",
            "_________________________________________________________________\n",
            "dense_5 (Dense)              (None, 1)                 65        \n",
            "=================================================================\n",
            "Total params: 5,412\n",
            "Trainable params: 5,377\n",
            "Non-trainable params: 35\n",
            "_________________________________________________________________\n"
          ],
          "name": "stdout"
        }
      ]
    },
    {
      "cell_type": "markdown",
      "metadata": {
        "id": "HdS-oj_y1E2J"
      },
      "source": [
        "Now we fit the model using our data, `features` and `labels`. We also time this to see how long it takes. The time taken mainly depends on how many epochs we specify. I try 6 different combinations of validation splits (0.2, 0.5, 0.8) and epochs (100 or 1000)."
      ]
    },
    {
      "cell_type": "code",
      "metadata": {
        "colab": {
          "base_uri": "https://localhost:8080/"
        },
        "id": "cy2LcIZYiSOk",
        "outputId": "dc0fe280-f348-4f25-cdfe-ee118bc2a8a5"
      },
      "source": [
        "%%time\n",
        "history = {}\n",
        "for i in range (0,6):\n",
        "  history[i] = dnn_model.fit(\n",
        "    features, labels,\n",
        "    validation_split=(0.2+0.3*i//2),\n",
        "    verbose=0, epochs=(100+900*i%2))"
      ],
      "execution_count": null,
      "outputs": [
        {
          "output_type": "stream",
          "text": [
            "CPU times: user 10 s, sys: 419 ms, total: 10.4 s\n",
            "Wall time: 12.9 s\n"
          ],
          "name": "stdout"
        }
      ]
    },
    {
      "cell_type": "markdown",
      "metadata": {
        "id": "MTjMJj6R1wZz"
      },
      "source": [
        "You can see that the different don't make a huge difference in this case, but that generally, 1000 epochs is a little better than 100, and a 50/50 validation split "
      ]
    },
    {
      "cell_type": "code",
      "metadata": {
        "colab": {
          "base_uri": "https://localhost:8080/"
        },
        "id": "TdCIdYPTjGo-",
        "outputId": "2f2728ad-4fb8-4703-beac-cb5db60399d0"
      },
      "source": [
        "hist = {}\n",
        "for i in range(0,6):\n",
        "  hist[i] = pd.DataFrame(history[i].history)\n",
        "  hist[i]['epoch'] = history[i].epoch\n",
        "  print(hist[i][-3:])\n",
        "  print(hist[i]['loss'][-1:]+hist[i]['val_loss'][-1:])\n",
        "  print('\\n')\n",
        "\n"
      ],
      "execution_count": null,
      "outputs": [
        {
          "output_type": "stream",
          "text": [
            "        loss  accuracy  val_loss  val_accuracy  epoch\n",
            "97  0.003539       0.0  0.139516           0.0     97\n",
            "98  0.003853       0.0  0.141703           0.0     98\n",
            "99  0.003670       0.0  0.138615           0.0     99\n",
            "99    0.142285\n",
            "dtype: float64\n",
            "\n",
            "\n",
            "        loss  accuracy  val_loss  val_accuracy  epoch\n",
            "97  0.002692       0.0  0.135940           0.0     97\n",
            "98  0.002499       0.0  0.138484           0.0     98\n",
            "99  0.003134       0.0  0.137669           0.0     99\n",
            "99    0.140803\n",
            "dtype: float64\n",
            "\n",
            "\n",
            "        loss  accuracy  val_loss  val_accuracy  epoch\n",
            "97  0.002998       0.0  0.138006           0.0     97\n",
            "98  0.003665       0.0  0.136965           0.0     98\n",
            "99  0.003424       0.0  0.135475           0.0     99\n",
            "99    0.138899\n",
            "dtype: float64\n",
            "\n",
            "\n",
            "        loss  accuracy  val_loss  val_accuracy  epoch\n",
            "97  0.002762       0.0  0.133352           0.0     97\n",
            "98  0.003723       0.0  0.135782           0.0     98\n",
            "99  0.002060       0.0  0.136393           0.0     99\n",
            "99    0.138453\n",
            "dtype: float64\n",
            "\n",
            "\n",
            "        loss  accuracy  val_loss  val_accuracy  epoch\n",
            "97  0.004160       0.0  0.131982           0.0     97\n",
            "98  0.003839       0.0  0.136309           0.0     98\n",
            "99  0.004134       0.0  0.138623           0.0     99\n",
            "99    0.142757\n",
            "dtype: float64\n",
            "\n",
            "\n",
            "        loss  accuracy  val_loss  val_accuracy  epoch\n",
            "97  0.003137       0.0  0.136719           0.0     97\n",
            "98  0.004143       0.0  0.136991           0.0     98\n",
            "99  0.003302       0.0  0.134077           0.0     99\n",
            "99    0.137379\n",
            "dtype: float64\n",
            "\n",
            "\n"
          ],
          "name": "stdout"
        }
      ]
    },
    {
      "cell_type": "code",
      "metadata": {
        "colab": {
          "base_uri": "https://localhost:8080/"
        },
        "id": "k_apYfV6pLDZ",
        "outputId": "f0ed2f01-60a2-455d-d9fe-65896a91cc1c"
      },
      "source": [
        "_, accuracy = dnn_model.evaluate(features, labels)\n",
        "print('Accuracy: %.2f' % (accuracy*100))"
      ],
      "execution_count": null,
      "outputs": [
        {
          "output_type": "stream",
          "text": [
            "3/3 [==============================] - 0s 3ms/step - loss: 0.0297 - accuracy: 0.0000e+00\n",
            "Accuracy: 0.00\n"
          ],
          "name": "stdout"
        }
      ]
    },
    {
      "cell_type": "code",
      "metadata": {
        "colab": {
          "base_uri": "https://localhost:8080/"
        },
        "id": "Zk88Y05cjLOw",
        "outputId": "9722d8b4-c56f-4e3e-be5c-e9b673a11f2c"
      },
      "source": [
        "test_results = {}\n",
        "\n",
        "test_results['dnn_model'] = dnn_model.evaluate(features, labels, verbose=0)\n",
        "\n",
        "print(test_results)"
      ],
      "execution_count": null,
      "outputs": [
        {
          "output_type": "stream",
          "text": [
            "{'dnn_model': [0.029742982238531113, 0.0]}\n"
          ],
          "name": "stdout"
        }
      ]
    },
    {
      "cell_type": "code",
      "metadata": {
        "colab": {
          "base_uri": "https://localhost:8080/",
          "height": 279
        },
        "id": "o0DXAF6hsP6n",
        "outputId": "16b5fa48-db77-4f6e-82f7-c529f0666d7f"
      },
      "source": [
        "test_predictions = dnn_model.predict(features).flatten()\n",
        "\n",
        "a = plt.axes(aspect='equal')\n",
        "plt.scatter(labels, test_predictions)\n",
        "plt.xlabel('True Values')\n",
        "plt.ylabel('Predictions')\n",
        "lims = [0, 1.5]\n",
        "plt.xlim(lims)\n",
        "plt.ylim(lims)\n",
        "_ = plt.plot(lims, lims)"
      ],
      "execution_count": null,
      "outputs": [
        {
          "output_type": "display_data",
          "data": {
            "image/png": "[encoded data removed]",
            "text/plain": [
              "<Figure size 432x288 with 1 Axes>"
            ]
          },
          "metadata": {
            "tags": [],
            "needs_background": "light"
          }
        }
      ]
    },
    {
      "cell_type": "code",
      "metadata": {
        "id": "mcxTBxs7ny0x",
        "colab": {
          "base_uri": "https://localhost:8080/"
        },
        "outputId": "fa0c1d8c-ef5b-45e2-cd4f-0f1005b77880"
      },
      "source": [
        "dnn_model.save(\"drive/MyDrive/Colab Notebooks/\")"
      ],
      "execution_count": null,
      "outputs": [
        {
          "output_type": "stream",
          "text": [
            "INFO:tensorflow:Assets written to: drive/MyDrive/Colab Notebooks/assets\n"
          ],
          "name": "stdout"
        }
      ]
    },
    {
      "cell_type": "code",
      "metadata": {
        "id": "p-g8ilHG4I9u"
      },
      "source": [
        "def evaluatePlayer(playerStats):\n",
        "  ret = \" who averaged \" + str(round(playerStats[16]/playerStats[0],1)) + \" ppg,\\t\"\n",
        "  ret = ret + str(round((playerStats[10]+playerStats[9])/playerStats[0],1)) + \" rpg,\\t\"\n",
        "  ret = ret + str(round(playerStats[11]/playerStats[0],1)) + \" apg,\\t\"\n",
        "  if(playerStats[3]+playerStats[5] == 0):\n",
        "    ret = ret + \" shooting 0%\\t\"\n",
        "  else:\n",
        "    ret = ret + \" shooting \" + str(round(100*(playerStats[3]+playerStats[5])/(playerStats[4]+playerStats[6]),1)) + \"%\\t\"\n",
        "  ret = ret + \" had an index of \" + str(dnn_model.predict([playerStats]))\n",
        "  return ret "
      ],
      "execution_count": null,
      "outputs": []
    },
    {
      "cell_type": "code",
      "metadata": {
        "colab": {
          "base_uri": "https://localhost:8080/"
        },
        "id": "OgYrg3JdqFnZ",
        "outputId": "60502c15-b36a-4110-ee68-156bbb0ec3a8"
      },
      "source": [
        "# \"G\",\"GS\",\"MP\",\"3P\",\"3PA\",\"2P\",\"2PA\",\"FT\",\"FTA\",\"ORB\",\"DRB\",\"AST\",\"STL\",\"BLK\",\"TOV\",\"PF\",\"PTS\"\n",
        "newPlayer = [[76, 76, 1843, 95, 214, 197, 402, 146,  203, 67, 324, 303, 77, 34, 114, 139 ,825],\n",
        "             [50, 50, 1000, 20, 100, 50, 150, 33, 88, 33, 55, 16, 8, 32, 10, 180, 193],\n",
        "             [76, 76, 2043, 145, 274, 467, 782, 199, 243, 167, 524, 1003, 157, 94, 74, 139 ,1568],\n",
        "             [1,0,0,0,0,0,0,0,0,0,0,0,0,0,0,0,2],\n",
        "             [60,2,430,0,10,24,60,2,5,0,5,0,0,0,0,0,50],\n",
        "             [1,0,0,0,0,0,0,0,0,0,0,0,0,0,0,0,90],]\n",
        "\n",
        "predictions = dnn_model.predict(features)\n",
        "\n",
        "# prints outliers\n",
        "for i in range(0,predictions.size):\n",
        "  if(abs(predictions[i][0]-labels[i]) > .1):\n",
        "    print(str(d[i][1]) + \" \" + str(predictions[i]))\n",
        "\n",
        "for row in newPlayer:\n",
        "  print(evaluatePlayer(row))\n"
      ],
      "execution_count": null,
      "outputs": [
        {
          "output_type": "stream",
          "text": [
            "Aaron Gordon [1.2833825]\n",
            "Otto Porter [0.6025251]\n",
            "Eric Gordon [0.953976]\n",
            "Josh Richardson [0.9382225]\n",
            "Jaren Jackson Jr. [0.7046638]\n",
            "Julius Randle [1.8157332]\n",
            "P.J. Tucker [1.2797236]\n",
            "Brandon Ingram [1.2558609]\n",
            "Marcus Smart [1.0691725]\n",
            " who averaged 10.9 ppg,\t5.1 rpg,\t4.0 apg,\t shooting 47.4%\t had an index of [[0.9682616]]\n",
            " who averaged 3.9 ppg,\t1.8 rpg,\t0.3 apg,\t shooting 28.0%\t had an index of [[1.2876446]]\n",
            " who averaged 20.6 ppg,\t9.1 rpg,\t13.2 apg,\t shooting 58.0%\t had an index of [[1.4947574]]\n",
            " who averaged 2.0 ppg,\t0.0 rpg,\t0.0 apg,\t shooting 0%\t had an index of [[1.2203585]]\n",
            " who averaged 0.8 ppg,\t0.1 rpg,\t0.0 apg,\t shooting 34.3%\t had an index of [[1.6047243]]\n",
            " who averaged 90.0 ppg,\t0.0 rpg,\t0.0 apg,\t shooting 0%\t had an index of [[1.2418689]]\n"
          ],
          "name": "stdout"
        }
      ]
    },
    {
      "cell_type": "markdown",
      "metadata": {
        "id": "VXONC31AIKnO"
      },
      "source": [
        "These resulting index values we get are all over the place, indicating that our data set is too limited. Consider the 3.9-1.8-0.3 player, who had a higher index than anyone in the training data set. Obviously, that player is not better than Giannis or Lebron, but this shortfall seems almost expected when you consider that no one in the 70+ players in the set had a statline close to that. Most average 10+, if not 20+ points and a decent number of either rebound or assists as well. To put in oversimplified terms, the neural network had had no one to compare this statline to, so it has no idea how good they are."
      ]
    }
  ]
}